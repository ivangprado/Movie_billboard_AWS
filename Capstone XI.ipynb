{
 "cells": [
  {
   "cell_type": "markdown",
   "metadata": {},
   "source": [
    "\n",
    "<h1><font color=\"#00586D\" size=6>Movie billboard on AWS</font></h1>"
   ]
  },
  {
   "cell_type": "markdown",
   "metadata": {
    "jp-MarkdownHeadingCollapsed": true,
    "tags": []
   },
   "source": [
    "# <font color=\"#00586D\">Introduction</font>\n",
    "\n",
    "In this project I deploy an application on the AWS cloud that, on a recurring basis, consults the state of the movie billboards through calls to an API of third parties. The result of these queries will be stored through AWS storage services. In addition, the most relevant data will be stored in a non-relational database, which will allow future queries through an API built on Lambda functions.\n",
    "The validation of the application is done from the current notebook."
   ]
  },
  {
   "cell_type": "markdown",
   "metadata": {},
   "source": [
    "# <font color=\"#00586D\"> Architecture</font>\n",
    "\n",
    "The app will have the following functionality:\n",
    "<ol type=\"A\">\n",
    "     <li> It will consult data through an external API, which allows obtaining information about the films that are currently projected in theaters. Initially, queries will be made through the use of the request library within the current notebook</li>\n",
    "     <li> It will store the data obtained with each call in JSON files, using the AWS S3 storage service. These files will be organized by name that reflects the date they were obtained</li>\n",
    "     <li> It will keep a database, created in AWS DynamoDB, up-to-date with key data for every movie I have obtained information about. The update process will start upon the presence of new files in AWS S3.\n",
    "     <li> It will offer queries to the database that allow obtaining movies that meet certain conditions </li>\n",
    "         <ol>\n",
    "             <li> Movies released in specific month </li>\n",
    "             <li> Movies with a rating above a threshold </li>\n",
    "         </ol>\n",
    "     <li> It will automate external API queries by deploying an AWS Lambda function</li>\n",
    "     <li> It will offer the queries to the database through an API deployed with API Gateway + AWS Lambda </li>\n",
    "</ol>\n",
    "\n",
    "The application architecture is shown in the following image:\n",
    "  \n",
    "<img src=\"img/arquitectura.png\" alt=\"Arquitectura del capstone\">"
   ]
  },
  {
   "cell_type": "markdown",
   "metadata": {},
   "source": [
    "# <font color=\"#00586D\" size=5> Actions to take </font>"
   ]
  },
  {
   "cell_type": "markdown",
   "metadata": {},
   "source": [
    "### <font color=\"#00586D\" size=3><b> </b></font> Use of \"The Movie Database API\"\n",
    "\n",
    "To consume the API I must obtain an `API Key` that identifies us during our queries.\n",
    "\n",
    "The TMDb API requires authentication, so to work with it it is necessary, first of all, to have a user. Once the registration on the web is done, it is necessary to request a key to use the API. Detailed instructions are shown on this page([link](https://developers.themoviedb.org/3/getting-started/introduction)). This process is simple, and basically consists of 3 steps:\n",
    "\n",
    "- Enter the personal account settings.\n",
    "- Enter the API menu.\n",
    "- Create the API and identify the token (I will use it as `API KEY`)\n",
    "\n",
    " \n",
    "Once the API is obtained, I use it to perform any of the queries included in the documentation (https://developers.themoviedb.org/3/movies).\n",
    "\n",
    "During the project, I'll make use of the now_playing call, which gives us the following data for each movie currently playing in theaters:\n",
    "\n",
    "- poster_path: string with values to generate a URL to the movie poster\n",
    "- adult: boolean value that tells us if it is an adult movie or not\n",
    "- overview: string with the summary of the movie\n",
    "- release_date: string with the release date\n",
    "- id: integer that serves as a unique identifier\n",
    "- popularity: integer with the current popularity\n",
    "- vote_average: integer with the average value of the votes made to date\n",
    "- vote_count: integer indicating the number of votes made\n",
    "\n"
   ]
  },
  {
   "cell_type": "markdown",
   "metadata": {},
   "source": [
    "Using POSTMAN, I make a call to the URL https://api.themoviedb.org/3/movie/now_playing?api_key=YOUR_KEY replacing YOUR_KEY with my personal API Key.\n",
    "\n",
    "I paste the data obtained for the first 3 films in the following cell:"
   ]
  },
  {
   "cell_type": "raw",
   "metadata": {},
   "source": [
    "\"results\": [\n",
    "        {\n",
    "            \"adult\": false,\n",
    "            \"backdrop_path\": \"/lWqjXgut48IK5f5IRbDBAoO2Epp.jpg\",\n",
    "            \"genre_ids\": [\n",
    "                16,\n",
    "                12,\n",
    "                10751,\n",
    "                14,\n",
    "                35\n",
    "            ],\n",
    "            \"id\": 502356,\n",
    "            \"original_language\": \"en\",\n",
    "            \"original_title\": \"The Super Mario Bros. Movie\",\n",
    "            \"overview\": \"While working underground to fix a water main, Brooklyn plumbers—and brothers—Mario and Luigi are transported down a mysterious pipe and wander into a magical new world. But when the brothers are separated, Mario embarks on an epic quest to find Luigi.\",\n",
    "            \"popularity\": 10478.582,\n",
    "            \"poster_path\": \"/qNBAXBIQlnOThrVvA6mA2B5ggV6.jpg\",\n",
    "            \"release_date\": \"2023-04-05\",\n",
    "            \"title\": \"The Super Mario Bros. Movie\",\n",
    "            \"video\": false,\n",
    "            \"vote_average\": 7.5,\n",
    "            \"vote_count\": 1344\n",
    "        },\n",
    "        {\n",
    "            \"adult\": false,\n",
    "            \"backdrop_path\": \"/nDxJJyA5giRhXx96q1sWbOUjMBI.jpg\",\n",
    "            \"genre_ids\": [\n",
    "                28,\n",
    "                35,\n",
    "                14\n",
    "            ],\n",
    "            \"id\": 594767,\n",
    "            \"original_language\": \"en\",\n",
    "            \"original_title\": \"Shazam! Fury of the Gods\",\n",
    "            \"overview\": \"Billy Batson and his foster siblings, who transform into superheroes by saying \\\"Shazam!\\\", are forced to get back into action and fight the Daughters of Atlas, who they must stop from using a weapon that could destroy the world.\",\n",
    "            \"popularity\": 5900.902,\n",
    "            \"poster_path\": \"/2VK4d3mqqTc7LVZLnLPeRiPaJ71.jpg\",\n",
    "            \"release_date\": \"2023-03-15\",\n",
    "            \"title\": \"Shazam! Fury of the Gods\",\n",
    "            \"video\": false,\n",
    "            \"vote_average\": 6.9,\n",
    "            \"vote_count\": 1147\n",
    "        },\n",
    "        {\n",
    "            \"adult\": false,\n",
    "            \"backdrop_path\": \"/54IXMMEQKlkPXHqPExWy98UBmtE.jpg\",\n",
    "            \"genre_ids\": [\n",
    "                27\n",
    "            ],\n",
    "            \"id\": 1008005,\n",
    "            \"original_language\": \"es\",\n",
    "            \"original_title\": \"La niña de la comunión\",\n",
    "            \"overview\": \"Spain, late 1980s. Newcomer Sara tries to fit in with the other teens in this tight-knit small town in the province of Tarragona. If only she were more like her extroverted best friend, Rebe. They go out one night at a nightclub, on the way home, they come upon a little girl holding a doll, dressed for her first communion. And that's when the nightmare begins.\",\n",
    "            \"popularity\": 2005.465,\n",
    "            \"poster_path\": \"/sP6AO11a7jWgsmT9T8j9EGIWAaZ.jpg\",\n",
    "            \"release_date\": \"2023-02-10\",\n",
    "            \"title\": \"The Communion Girl\",\n",
    "            \"video\": false,\n",
    "            \"vote_average\": 6.3,\n",
    "            \"vote_count\": 53\n",
    "        }]"
   ]
  },
  {
   "cell_type": "markdown",
   "metadata": {},
   "source": [
    "### <font color=\"#00586D\" size=3><b></font> Query through \"requests\"\n",
    "\n",
    "- Now I use the request library to do the API calls.\n",
    "- Knowing that the obtained data is ordered by popularity, I add a value to each result called rank with the position of the movie\n",
    "    - The movie in position 0 of the array will have the ranking value 1\n",
    "    - The movie in position 1 of the array will have the ranking value 2\n",
    "    - The movie in position n-1 of the array will have the ranking value n"
   ]
  },
  {
   "cell_type": "code",
   "execution_count": 1,
   "metadata": {},
   "outputs": [
    {
     "data": {
      "text/plain": [
       "'[{\"adult\":false,\"backdrop_path\":\"\\\\/yF1eOkaYvwiORauRCPWznV9xVvi.jpg\",\"genre_ids\":[28,12,878],\"id\":298618,\"original_language\":\"en\",\"original_title\":\"The Flash\",\"overview\":\"When his attempt to save his family inadvertently alters the future, Barry Allen becomes trapped in a reality in which General Zod has returned and there are no Super Heroes to turn to. In order to save the world that he is in and return to the future that he knows, Barry\\'s only hope is to race for his life. But will making the ultimate sacrifice be enough to reset the universe?\",\"popularity\":4114.54,\"poster_path\":\"\\\\/rktDFPbfHfUbArZ6OOOKsXcv0Bm.jpg\",\"release_date\":\"2023-06-13\",\"title\":\"The Flash\",\"video\":false,\"vote_average\":6.9,\"vote_count\":1870,\"rank\":1},{\"adult\":false,\"backdrop_path\":\"\\\\/2vFuG6bWGyQUzYS9d69E5l85nIz.jpg\",\"genre_ids\":[28,12,878],\"id\":667538,\"original_language\":\"en\",\"original_title\":\"Transformers: Rise of the Beasts\",\"overview\":\"When a new threat capable of destroying the entire planet emerges, Optimus Prime and the Autobots must team up with a powerful faction known as the Maximals. With the fate of humanity hanging in the balance, humans Noah and Elena will do whatever it takes to help the Transformers as they engage in the ultimate battle to save Earth.\",\"popularity\":3912.928,\"poster_path\":\"\\\\/gPbM0MK8CP8A174rmUwGsADNYKD.jpg\",\"release_date\":\"2023-06-06\",\"title\":\"Transformers: Rise of the Beasts\",\"video\":false,\"vote_average\":7.5,\"vote_count\":2182,\"rank\":2},{\"adult\":false,\"backdrop_path\":\"\\\\/tTfnd2VrlaZJSBD9HUbtSF3CqPJ.jpg\",\"genre_ids\":[35,12,14],\"id\":346698,\"original_language\":\"en\",\"original_title\":\"Barbie\",\"overview\":\"Barbie and Ken are having the time of their lives in the colorful and seemingly perfect world of Barbie Land. However, when they get a chance to go to the real world, they soon discover the joys and perils of living among humans.\",\"popularity\":4155.646,\"poster_path\":\"\\\\/iuFNMS8U5cb6xfzi51Dbkovj7vM.jpg\",\"release_date\":\"2023-07-19\",\"title\":\"Barbie\",\"video\":false,\"vote_average\":7.5,\"vote_count\":1893,\"rank\":3}]'"
      ]
     },
     "execution_count": 1,
     "metadata": {},
     "output_type": "execute_result"
    }
   ],
   "source": [
    "import pandas as pd\n",
    "import requests\n",
    "import re\n",
    "from bs4 import BeautifulSoup\n",
    "from pandas import json_normalize\n",
    "API_KEY = \"your_key\"\n",
    "response = requests.get(f\"https://api.themoviedb.org/3/movie/now_playing?api_key={API_KEY}\")\n",
    "data = response.json()[\"results\"]\n",
    "df = pd.json_normalize (data)\n",
    "df = df.assign(rank=range(1, len(df) + 1))\n",
    "df.head(3).to_json(orient=\"records\")"
   ]
  },
  {
   "cell_type": "markdown",
   "metadata": {},
   "source": [
    "### <font color=\"#00586D\" size=3></font> Uploading data to S3\n",
    "\n",
    "- I create an S3 bucket named\n",
    "   - I do it from the AWS console\n",
    "- The code cell below, after querying data from the API and including the rank field, an object is generated for each result\n",
    "- Path of the object to create /movies/ID_MOVIE/YEAR_MONTH_DAY.json\n",
    "   - ID_MOVIE corresponds to the id of the movie\n",
    "   - YEAR/MONTH/DAY with the date of the query\n",
    "  \n",
    "For example, if the query gets 4 movies, the execution of the cell should generate 4 JSON files that will be uploaded, using the boto3 library, to the S3 bucket"
   ]
  },
  {
   "cell_type": "code",
   "execution_count": 2,
   "metadata": {
    "tags": []
   },
   "outputs": [
    {
     "name": "stdout",
     "output_type": "stream",
     "text": [
      "Requirement already satisfied: boto3 in c:\\users\\igarciap\\cidaen\\modulo11\\capstone\\mc3-m11-capstone-0xyellc\\venv\\lib\\site-packages (1.26.119)\n",
      "Requirement already satisfied: jmespath<2.0.0,>=0.7.1 in c:\\users\\igarciap\\cidaen\\modulo11\\capstone\\mc3-m11-capstone-0xyellc\\venv\\lib\\site-packages (from boto3) (1.0.1)\n",
      "Requirement already satisfied: botocore<1.30.0,>=1.29.119 in c:\\users\\igarciap\\cidaen\\modulo11\\capstone\\mc3-m11-capstone-0xyellc\\venv\\lib\\site-packages (from boto3) (1.29.119)\n",
      "Requirement already satisfied: s3transfer<0.7.0,>=0.6.0 in c:\\users\\igarciap\\cidaen\\modulo11\\capstone\\mc3-m11-capstone-0xyellc\\venv\\lib\\site-packages (from boto3) (0.6.0)\n",
      "Requirement already satisfied: python-dateutil<3.0.0,>=2.1 in c:\\users\\igarciap\\cidaen\\modulo11\\capstone\\mc3-m11-capstone-0xyellc\\venv\\lib\\site-packages (from botocore<1.30.0,>=1.29.119->boto3) (2.8.2)\n",
      "Requirement already satisfied: urllib3<1.27,>=1.25.4 in c:\\users\\igarciap\\cidaen\\modulo11\\capstone\\mc3-m11-capstone-0xyellc\\venv\\lib\\site-packages (from botocore<1.30.0,>=1.29.119->boto3) (1.26.14)\n",
      "Requirement already satisfied: six>=1.5 in c:\\users\\igarciap\\cidaen\\modulo11\\capstone\\mc3-m11-capstone-0xyellc\\venv\\lib\\site-packages (from python-dateutil<3.0.0,>=2.1->botocore<1.30.0,>=1.29.119->boto3) (1.16.0)\n"
     ]
    },
    {
     "name": "stderr",
     "output_type": "stream",
     "text": [
      "\n",
      "[notice] A new release of pip available: 22.2.2 -> 23.2.1\n",
      "[notice] To update, run: python.exe -m pip install --upgrade pip\n"
     ]
    }
   ],
   "source": [
    "!pip install boto3"
   ]
  },
  {
   "cell_type": "code",
   "execution_count": null,
   "metadata": {},
   "outputs": [],
   "source": [
    "import requests\n",
    "import json\n",
    "import boto3    \n",
    "from datetime import datetime\n",
    "\n",
    "API_KEY = \"your_key\"\n",
    "NOMBRE_BUCKET = \"your_bucket\" # Creado desde la consola de AWS \n",
    "now = datetime.now()\n",
    "year_month_day = now.strftime(\"%Y_%m_%d\") # Obtener dígitos del año, mes y día\n",
    "\n",
    "\n",
    "# 1.- GET DATA FROM THE API\n",
    "\n",
    "response = requests.get(f\"https://api.themoviedb.org/3/movie/now_playing?api_key={API_KEY}\")\n",
    "data = response.json()[\"results\"]\n",
    "    \n",
    "# 2.- CONFIGURING S3\n",
    "    \n",
    "s3_client = boto3.client('s3', region_name='us-east-1')\n",
    "s3_resource = boto3.resource('s3', region_name='us-east-1')\n",
    "    \n",
    "try:\n",
    "    s3_client.put_object(Bucket=NOMBRE_BUCKET, Key='movies/')\n",
    "    print('Folder created correctly')\n",
    "except Exception as e:\n",
    "    print(e) \n",
    "\n",
    "\n",
    "# 3.- Uploading files to S3\n",
    "\n",
    "for index, json_obj in enumerate (data):\n",
    "    json_obj[\"rank\"] = index+1\n",
    "    movie_id = str(json_obj[\"id\"])\n",
    "    path = f\"movies/{movie_id}/{year_month_day}.json\"\n",
    "    data_movie = json.dumps(json_obj)\n",
    "    s3_client.put_object(Bucket= NOMBRE_BUCKET, Key=path, Body=data_movie)"
   ]
  },
  {
   "cell_type": "markdown",
   "metadata": {},
   "source": [
    "- I paste the folders inside the S3 bucket"
   ]
  },
  {
   "cell_type": "markdown",
   "metadata": {},
   "source": [
    "<img src=\"img/eje_2.png\" alt=\"Validacion 2\">"
   ]
  },
  {
   "cell_type": "markdown",
   "metadata": {},
   "source": [
    "### <font color=\"#00586D\" size=3></font> Data storage in DynamoDB\n",
    "\n",
    "For ease of future reference, I am going to store movie data in a DynamoDB database. To do this, I will create a DynamoDB table through the AWS console with the following settings:\n",
    "\n",
    "- Name: MoviesDB\n",
    "- Partition Key: id (string)\n",
    "-Global Secondary Index\n",
    "   - Partition Key: y_m (string)\n",
    "      - Represents the release date of the movie (release_date)\n",
    "      - Composed of the year (4 digits) and month (2 digits). For example 2023_01\n",
    "   - Sort Key: val (number)\n",
    "\n",
    "To validate the created table, I am going to generate an input through boto3."
   ]
  },
  {
   "cell_type": "code",
   "execution_count": 88,
   "metadata": {
    "tags": []
   },
   "outputs": [
    {
     "data": {
      "text/plain": [
       "{'ResponseMetadata': {'RequestId': 'O34CHBBI2FSABFAOTE617CQGRFVV4KQNSO5AEMVJF66Q9ASUAAJG',\n",
       "  'HTTPStatusCode': 200,\n",
       "  'HTTPHeaders': {'server': 'Server',\n",
       "   'date': 'Tue, 02 May 2023 11:12:44 GMT',\n",
       "   'content-type': 'application/x-amz-json-1.0',\n",
       "   'content-length': '2',\n",
       "   'connection': 'keep-alive',\n",
       "   'x-amzn-requestid': 'O34CHBBI2FSABFAOTE617CQGRFVV4KQNSO5AEMVJF66Q9ASUAAJG',\n",
       "   'x-amz-crc32': '2745614147'},\n",
       "  'RetryAttempts': 0}}"
      ]
     },
     "execution_count": 88,
     "metadata": {},
     "output_type": "execute_result"
    }
   ],
   "source": [
    "import requests\n",
    "import json\n",
    "import boto3    \n",
    "from decimal import Decimal\n",
    "\n",
    "API_KEY = \"your_key\"\n",
    "NOMBRE_TABLA = \"MoviesDB\"\n",
    "\n",
    "# 1.- GET DATA FROM API MOVIES DB\n",
    "\n",
    "response = requests.get(f\"https://api.themoviedb.org/3/movie/now_playing?api_key={API_KEY}\")\n",
    "data = response.json()[\"results\"]\n",
    "\n",
    "# 2.- CONFIGURE THE DYNAMODB RESOURCE AND TABLE\n",
    "    \n",
    "dynamodb_resource = boto3.resource('dynamodb', region_name='us-east-1')\n",
    "dynamodb_table = dynamodb_resource.Table(NOMBRE_TABLA)\n",
    "\n",
    "# 3.- MODIFY THE FORMAT OF THE DATA OBTAINED SO THAT IT CAN BE SAVED IN DYNAMO_DB\n",
    "\n",
    "for index, json_obj in enumerate (data):\n",
    "    json_obj[\"rank\"] = index+1\n",
    "    str_id= str(json_obj[\"id\"])\n",
    "    json_obj[\"id\"] = str_id\n",
    "    split_rd= json_obj['release_date'].split('-')\n",
    "    format_rd = split_rd[0]+'_'+split_rd[1]\n",
    "    json_obj[\"y_m\"] = format_rd\n",
    "    json_obj[\"val\"] =  json_obj[\"vote_average\"]\n",
    "\n",
    "# 4.- SAVE A SINGLE ENTRY TO DYNAMO DB, USING THE METHOD BELOW\n",
    "\n",
    "single_element = data[0]\n",
    "dynamodb_table.put_item(Item=json.loads(json.dumps(single_element), parse_float=Decimal))"
   ]
  },
  {
   "cell_type": "markdown",
   "metadata": {},
   "source": [
    "- I paste a screenshot that shows the contents of the movies table in DynamoDB"
   ]
  },
  {
   "cell_type": "markdown",
   "metadata": {},
   "source": [
    "<img src=\"img/eje_3.png\" alt=\"Validacion 3\">"
   ]
  },
  {
   "cell_type": "markdown",
   "metadata": {},
   "source": [
    "### <font color=\"#00586D\" size=3></font> Process automation\n",
    "\n",
    "I want to automate the process of adding/updating the data in our DynamoDB table. To do this, I will use a lambda function with the following characteristics:\n",
    "\n",
    "- Must be executed after the creation of any object in the S3 bucket created above, under the path /movies\n",
    "- In case there is no previous entry for the movie, an entry will be created once proper fields have been generated for the partition and sort keys\n",
    "   - Partition key: id\n",
    "   -GSI\n",
    "       - Partition key: y_m\n",
    "       - Sort key: val\n",
    "      \n",
    "In addition, it will have two \"special\" fields with the following characteristics:\n",
    "   -rank_hist\n",
    "     - It will represent a dictionary with the evolution of the position of the film in the rankings over the weeks\n",
    "     - To do this, it will have an entry for each week in which the value obtained has been consulted, where date will have the format year_nWeek (number of the week/year in which the ranking has been consulted).\n",
    "       - Year will be represented by 4 digits\n",
    "       - nWeek will be represented by 2 digits\n",
    "     - If I make a request on January 15, I will be in week 2, while on the 16th I will be in week 3\n",
    "     - For the most popular movie, I will add the entry\n",
    "         - rank_hist = {\"2023_02\", 1}\n",
    "   -until_date\n",
    "     - It will help me to check the number of days that a movie has been showing\n",
    "     - Will save the date of the query in the same format as the release_date field (provided by the MoviesDB API)\n",
    "         -yyyy-mm-dd\n",
    "        \n",
    "- In case an entry already exists, I will update its values so that I \"can\" have the following changes\n",
    "     - New value for current valuation\n",
    "       - field val\n",
    "     - Updating the until_date field\n",
    "     - New entry in the rank_hist field with the value of the current week"
   ]
  },
  {
   "cell_type": "code",
   "execution_count": null,
   "metadata": {
    "tags": []
   },
   "outputs": [],
   "source": [
    "import requests\n",
    "import json\n",
    "import boto3\n",
    "import botocore\n",
    "from decimal import Decimal\n",
    "from datetime import datetime\n",
    "\n",
    "API_KEY = \"your_key\"\n",
    "NOMBRE_TABLA = \"MoviesDB\"\n",
    "\n",
    "# 1.- GET DATA FROM API MOVIES DB\n",
    "\n",
    "response = requests.get(f\"https://api.themoviedb.org/3/movie/now_playing?api_key={API_KEY}\")\n",
    "data = response.json()[\"results\"]\n",
    "\n",
    "# 2.- CONFIGURE THE DYNAMODB RESOURCE AND TABLE\n",
    "    \n",
    "dynamodb_resource = boto3.resource('dynamodb', region_name='us-east-1')\n",
    "dynamodb_table = dynamodb_resource.Table(NOMBRE_TABLA)\n",
    "\n",
    "# 3.- MODIFY THE FORMAT OF THE DATA OBTAINED SO THAT IT CAN BE SAVED IN DYNAMO_DB\n",
    "\n",
    "now = datetime.now()    \n",
    "year_number = now.isocalendar()[0]\n",
    "week_number = now.isocalendar()[1]    \n",
    "year_week = f'{year_number}_{week_number}'\n",
    "\n",
    "for index, json_obj in enumerate (data):\n",
    "    json_obj[\"rank\"] = index+1\n",
    "    str_id= str(json_obj[\"id\"])\n",
    "    json_obj[\"id\"] = str_id\n",
    "    split_rd= json_obj['release_date'].split('-')\n",
    "    format_rd = split_rd[0]+'_'+split_rd[1]\n",
    "    json_obj[\"y_m\"] = format_rd\n",
    "    json_obj[\"val\"] =  json_obj[\"vote_average\"]\n",
    "    new_rank = {year_week: json_obj[\"val\"]}\n",
    "    json_obj[\"rank_hist\"] = new_rank\n",
    "    \n",
    "# 4.- SAVE A SINGLE ENTRY TO DYNAMO DB, USING THE METHOD BELOW\n",
    "single_element = data[0]\n",
    "try:\n",
    "    response = dynamodb_table.update_item(\n",
    "    Key={ 'id': single_element['id']},\n",
    "    UpdateExpression= 'SET val = :val1, until_date = :val2, #dict.#key = :val3',\n",
    "    ExpressionAttributeNames={\n",
    "        '#dict': 'rank_hist',\n",
    "        '#key': year_week\n",
    "    },\n",
    "    ExpressionAttributeValues={\n",
    "        ':val1': round(Decimal(single_element['val']),2),\n",
    "        ':val2': datetime.now().strftime(\"%Y_%m_%d\"),\n",
    "        ':val3': round(Decimal(single_element['val']),2)\n",
    "    },\n",
    "    ConditionExpression='attribute_exists(id) and attribute_exists(y_m) and attribute_exists(val)'\n",
    "    )\n",
    "    print(\"UPDATE\")\n",
    "except botocore.exceptions.ClientError as e:\n",
    "    if e.response['Error']['Code'] == \"ConditionalCheckFailedException\":\n",
    "        dynamodb_table.put_item(Item=json.loads(json.dumps(single_element), parse_float=Decimal))\n",
    "        print(\"PUT\")\n",
    "    else:\n",
    "        raise"
   ]
  },
  {
   "cell_type": "code",
   "execution_count": 118,
   "metadata": {
    "tags": []
   },
   "outputs": [],
   "source": [
    "import boto3\n",
    "import json\n",
    "import botocore\n",
    "from decimal import Decimal\n",
    "from datetime import datetime\n",
    "\n",
    "\n",
    "def lambda_handler(event, context):\n",
    "    \n",
    "    s3_resource = boto3.resource('s3', region_name='us-east-1')\n",
    "    now = datetime.now()    \n",
    "    year_number = now.isocalendar()[0]\n",
    "    week_number = now.isocalendar()[1]    \n",
    "    year_week = f'{year_number}_{week_number}'\n",
    "    \n",
    "    NOMBRE_TABLA = \"MoviesDB\"\n",
    "    dynamodb_resource = boto3.resource('dynamodb', region_name='us-east-1')\n",
    "    dynamodb_table = dynamodb_resource.Table(NOMBRE_TABLA)\n",
    "    \n",
    "    for record in event.get('Records', []):\n",
    "        # 1 READ DATA FROM S3\n",
    "        bucket = record[\"s3\"][\"bucket\"][\"name\"]\n",
    "        key = record[\"s3\"][\"object\"][\"key\"]\n",
    "        obj = s3_resource.Object(bucket, key)\n",
    "        element = json.load(obj.get()['Body'])\n",
    "        str_id= str(element[\"id\"])\n",
    "        element[\"id\"] = str_id\n",
    "        split_rd= element['release_date'].split('-')\n",
    "        format_rd = split_rd[0]+'_'+split_rd[1]\n",
    "        element[\"y_m\"] = format_rd\n",
    "        element[\"val\"] =  element[\"vote_average\"]\n",
    "        new_rank = {year_week: element[\"val\"]}\n",
    "        element[\"rank_hist\"] = new_rank\n",
    "        \n",
    "        # 2 TRANSFORM DATA AND STORE IN DYNAMO DB\n",
    "        try:\n",
    "            response = dynamodb_table.update_item(\n",
    "                Key={ 'id': element[\"id\"]},\n",
    "                UpdateExpression= 'SET val = :val1, until_date = :val2, #dict.#key = :val3',\n",
    "                ExpressionAttributeNames={\n",
    "                    '#dict': 'rank_hist',\n",
    "                    '#key': year_week\n",
    "                },\n",
    "                ExpressionAttributeValues={\n",
    "                    ':val1': round(Decimal(element['val']),2),\n",
    "                    ':val2': now.strftime(\"%Y_%m_%d\"),\n",
    "                    ':val3': round(Decimal(element['val']),2)\n",
    "                },\n",
    "                ConditionExpression='attribute_exists(id) and attribute_exists(y_m) and attribute_exists(val)'\n",
    "            )\n",
    "            print(\"UPDATE\")\n",
    "        except botocore.exceptions.ClientError as e:\n",
    "            if e.response['Error']['Code'] == \"ConditionalCheckFailedException\":\n",
    "                dynamodb_table.put_item(Item=json.loads(json.dumps(element), parse_float=Decimal))\n",
    "                print(\"PUT\")\n",
    "            else:\n",
    "                raise"
   ]
  },
  {
   "cell_type": "markdown",
   "metadata": {},
   "source": [
    "- I paste a screenshot that shows the logs of the lambda function during the last 15 minutes\n",
    "- I paste an image that shows the entries in the DynamoDB table"
   ]
  },
  {
   "cell_type": "markdown",
   "metadata": {},
   "source": [
    "<img src=\"img/eje_4_a.png\" alt=\"Validacion 4a\">"
   ]
  },
  {
   "cell_type": "markdown",
   "metadata": {},
   "source": [
    "<img src=\"img/eje_4_b.png\" alt=\"Validacion 4b\">"
   ]
  },
  {
   "cell_type": "markdown",
   "metadata": {},
   "source": [
    "### <font color=\"#00586D\" size=3></font> Automation of data capture\n",
    "\n",
    "Once I have all the pieces of the process, let´s automate the data capture through a lambda function deployed in the cloud.\n",
    "\n",
    "Once deployed, I will add a _trigger_ that runs it every 24 hours.\n",
    "\n",
    "For the function I'll need it to handle additional dependencies to use the _requests_ library using a _layer_. Also, I need to modify the default parameters (timeout, memory, ...)"
   ]
  },
  {
   "cell_type": "markdown",
   "metadata": {},
   "source": [
    "- I paste screenshot that shows the logs of the lambda function during the last 5 minutes\n",
    "- Then I modify the trigger so that the function is executed every day"
   ]
  },
  {
   "cell_type": "markdown",
   "metadata": {},
   "source": [
    "<img src=\"img/eje_5.png\" alt=\"Validacion 5\">"
   ]
  },
  {
   "cell_type": "markdown",
   "metadata": {
    "tags": []
   },
   "source": [
    "### <font color=\"#00586D\" size=3></font> Movie list API (given month and year)\n",
    "\n",
    "Now, I'll build a lambda function executed upon an API Gateway endpoint invocation.\n",
    "\n",
    "To do this, I will generate a lambda that from events with the following format: `{'pathParameters': {'month': '1', 'year': '2023'}}`, generates a suitable listing. This query returns a movie list from DynamoDB using the following characteristics:\n",
    "- Query of type _query_\n",
    "- Query performed on the global secondary index\n",
    "   - A value must be provided for the y_m field to get the correct data\n",
    "- Descending order, so that the films with the highest rating are obtained in the first positions\n",
    "- Limit the query to 10 movies\n",
    "\n",
    "So that the result (list of movies) can be correctly interpreted by API Gateway, I will include it as json in the lambda response, specifically in the `body` field.\n",
    "\n",
    "Once the lambda is developed, I can validate it locally by making the following call:\n",
    "\n",
    "`lambda_handler({'pathParameters': {'month': '12', 'year': '2022'}}, None)`\n",
    "\n",
    "After the validation of the lambda, I will deploy an API through API Gateway that allows its invocation. To do this, I will define 1 base resource called _/list_ on top of which I will add 1 subresource _/list/{year}_ and a (sub)subresource _/list/{year}/{month}_. On the last subresource (_{month}_) I will add a GET method, which will connect the calls made on `API_URL/stage/list/{year}/{month}` with the previous lambda, where _year}_ and _month}_ will be replaced by real values.\n",
    "\n",
    "The event received by the lambda will have the previously defined format\n",
    "\n",
    "`{'pathParameters': {'month': 'MONTH', 'year': 'YEAR'}}`"
   ]
  },
  {
   "cell_type": "code",
   "execution_count": 145,
   "metadata": {
    "tags": []
   },
   "outputs": [],
   "source": [
    "import boto3\n",
    "import decimal\n",
    "import json\n",
    "from boto3.dynamodb.conditions import Key\n",
    "\n",
    "NOMBRE_TABLA = \"MoviesDB\"\n",
    "dynamo_resource = boto3.resource('dynamodb', region_name='us-east-1')\n",
    "dynamo_table = dynamo_resource.Table(NOMBRE_TABLA)\n",
    "\n",
    "\n",
    "class DecimalEncoder(json.JSONEncoder):       # Necesario para manejar los tipos Decimal\n",
    "    def default(self, o):\n",
    "        if isinstance(o, decimal.Decimal):\n",
    "            return str(o)\n",
    "        return super(DecimalEncoder, self).default(o)\n",
    "    \n",
    "    \n",
    "def lambda_handler(event, context):\n",
    "    year = int(event['pathParameters']['year'])\n",
    "    month = int(event['pathParameters']['month'])\n",
    "    y_m = f'{year}_{month:02d}'\n",
    "    response = dynamo_table.query(\n",
    "            IndexName='y_m-val-index',\n",
    "            KeyConditionExpression=Key('y_m').eq(y_m), \n",
    "            ScanIndexForward=False,\n",
    "            Limit=10   \n",
    "    )\n",
    "    items= response[\"Items\"]\n",
    "    return {\n",
    "        'statusCode': 200,\n",
    "        'body': json.dumps(items, cls=DecimalEncoder)\n",
    "    } "
   ]
  },
  {
   "cell_type": "code",
   "execution_count": 146,
   "metadata": {},
   "outputs": [
    {
     "data": {
      "text/plain": [
       "{'statusCode': 200, 'body': '[]'}"
      ]
     },
     "execution_count": 146,
     "metadata": {},
     "output_type": "execute_result"
    }
   ],
   "source": [
    "event = {'pathParameters': {'month': '04', 'year': '2022'}}\n",
    "lambda_handler(event, {})"
   ]
  },
  {
   "cell_type": "markdown",
   "metadata": {
    "tags": []
   },
   "source": [
    "### <font color=\"#00586D\" size=3></font> Movie details api (given its id)\n",
    "\n",
    "Now I'll build another lambda function executed upon invocation of another API Gateway endpoint.\n",
    "\n",
    "To do this, I will generate a lambda that from events in the following format: `{'pathParameters': {'id': '76600'}}`, get details for the movie with the id provided. The details are obtained from a query to the DynamoDB database using the following features:\n",
    "- Query of type _get_item()_\n",
    "- Query performed on the table (using the partition key)\n",
    "   - A value must be provided for the id field\n",
    "\n",
    "So that the result (movie details) can be correctly interpreted by API Gateway, I will include it as json in the lambda response, specifically in the `body` field (check the content of the included code).\n",
    "\n",
    "Once the lambda is developed, I can validate it locally by making the following call:\n",
    "\n",
    "`lambda_handler({'pathParameters': {'id': '76600'}}, None)`\n",
    "\n",
    "After the validation of the lambda, I will deploy an API through API Gateway that allows its invocation. To do this, I will define 1 new base resource called _/movies_ to which I will add 1 subresource _/movies/{id}_. On the subresource (_{id}_) I will add a GET method, which will connect the calls made on `API_URL/stage/movies/{id}` with the previous lambda, where {id}_ will be replaced by a real value .\n",
    "\n",
    "The event received by the lambda will have the previously defined format\n",
    "\n",
    "`{'pathParameters': {'id': 'MOVIE_ID'}}`"
   ]
  },
  {
   "cell_type": "code",
   "execution_count": 134,
   "metadata": {
    "tags": []
   },
   "outputs": [],
   "source": [
    "import boto3\n",
    "import decimal\n",
    "import json\n",
    "from boto3.dynamodb.conditions import Key\n",
    "\n",
    "NOMBRE_TABLA = \"MoviesDB\"\n",
    "dynamo_resource = boto3.resource('dynamodb', region_name='us-east-1')\n",
    "dynamo_table = dynamo_resource.Table(NOMBRE_TABLA)\n",
    "\n",
    "\n",
    "class DecimalEncoder(json.JSONEncoder):       # Necesario para manejar los tipos Decimal\n",
    "    def default(self, o):\n",
    "        if isinstance(o, decimal.Decimal):\n",
    "            return str(o)\n",
    "        return super(DecimalEncoder, self).default(o)\n",
    "    \n",
    "    \n",
    "def lambda_handler(event, context):\n",
    "    movie_id = event['pathParameters']['id']\n",
    "    response = dynamo_table.get_item(\n",
    "    Key={\n",
    "        'id': movie_id,\n",
    "    }\n",
    "    )\n",
    "    item= response[\"Item\"]\n",
    "    return {\n",
    "        'statusCode': 200,\n",
    "        'body': json.dumps(item, cls=DecimalEncoder)\n",
    "    } "
   ]
  },
  {
   "cell_type": "code",
   "execution_count": 135,
   "metadata": {},
   "outputs": [
    {
     "data": {
      "text/plain": [
       "{'statusCode': 200,\n",
       " 'body': '{\"genre_ids\": [\"878\", \"12\", \"53\", \"28\"], \"original_title\": \"65\", \"val\": \"6.3\", \"adult\": false, \"y_m\": \"2023_03\", \"overview\": \"65 million years ago, the only 2 survivors of a spaceship from Somaris that crash-landed on Earth must fend off dinosaurs and reach the escape vessel in time before an imminent asteroid strike threatens to destroy the planet.\", \"vote_average\": \"6.3\", \"rank\": \"9\", \"popularity\": \"1665.196\", \"rank_hist\": {\"2023_18\": \"6.3\"}, \"backdrop_path\": \"/eEF40Xk2twM3WjRNZftfo771gjv.jpg\", \"release_date\": \"2023-03-02\", \"original_language\": \"en\", \"vote_count\": \"853\", \"until_date\": \"2023_05_02\", \"id\": \"700391\", \"poster_path\": \"/rzRb63TldOKdKydCvWJM8B6EkPM.jpg\", \"video\": false, \"title\": \"65\"}'}"
      ]
     },
     "execution_count": 135,
     "metadata": {},
     "output_type": "execute_result"
    }
   ],
   "source": [
    "event = {'pathParameters': {'id': '700391'}}\n",
    "lambda_handler(event, {})"
   ]
  },
  {
   "cell_type": "markdown",
   "metadata": {},
   "source": [
    "### <font color=\"#00586D\" size=3></font> API validation through the use of IPWidgets.\n",
    "\n",
    "To validate that everything works correctly, I have included a series of visual elements (widgets) that allow queries to be made to the previously deployed API."
   ]
  },
  {
   "cell_type": "code",
   "execution_count": 151,
   "metadata": {},
   "outputs": [],
   "source": [
    "BASE_URL = 'https://gevlrxz224.execute-api.us-east-1.amazonaws.com/dev'"
   ]
  },
  {
   "cell_type": "code",
   "execution_count": null,
   "metadata": {
    "tags": []
   },
   "outputs": [],
   "source": [
    "!pip install ipywidgets"
   ]
  },
  {
   "cell_type": "code",
   "execution_count": 152,
   "metadata": {
    "tags": []
   },
   "outputs": [
    {
     "data": {
      "application/vnd.jupyter.widget-view+json": {
       "model_id": "6b1dcf50004145079bf0f81401028a88",
       "version_major": 2,
       "version_minor": 0
      },
      "text/plain": [
       "Dropdown(description='Año', options=(2022, 2023), value=2022)"
      ]
     },
     "metadata": {},
     "output_type": "display_data"
    },
    {
     "data": {
      "application/vnd.jupyter.widget-view+json": {
       "model_id": "3813c15d6dad434580f88a37c708c696",
       "version_major": 2,
       "version_minor": 0
      },
      "text/plain": [
       "Dropdown(description='Mes', options=(1, 2, 3, 4, 5, 6, 7, 8, 9, 10, 11, 12), value=1)"
      ]
     },
     "metadata": {},
     "output_type": "display_data"
    },
    {
     "data": {
      "application/vnd.jupyter.widget-view+json": {
       "model_id": "2071f31d18e54683ba15d551e2584da0",
       "version_major": 2,
       "version_minor": 0
      },
      "text/plain": [
       "Output()"
      ]
     },
     "metadata": {},
     "output_type": "display_data"
    }
   ],
   "source": [
    "%matplotlib inline\n",
    "\n",
    "import requests\n",
    "import matplotlib.pyplot as plt\n",
    "import ipywidgets as widgets\n",
    "from IPython.display import display, HTML\n",
    "from matplotlib.ticker import MaxNLocator    \n",
    "    \n",
    "def display_movie_info(year, month):    \n",
    "    url = BASE_URL + f'/list/{year}/{month}'\n",
    "    res = requests.get(url)\n",
    "    data = res.json()\n",
    "    \n",
    "    dropdown_movies = widgets.Dropdown(\n",
    "        options=[(x['title'], x['id']) for x in data],    \n",
    "        description='Pelicula'\n",
    "    )\n",
    "    display(dropdown_movies)\n",
    "    movie_data = widgets.interactive_output(display_movie, {'_id': dropdown_movies})\n",
    "    display(movie_data)\n",
    "    \n",
    "def display_movie(_id):\n",
    "    url = BASE_URL + f'/movies/{_id}'\n",
    "    res = requests.get(url)\n",
    "    data = res.json()\n",
    "    if not \"message\" in data:\n",
    "        output1 = widgets.Output()\n",
    "        with output1:\n",
    "            poster_path = 'http://image.tmdb.org/t/p/w185'+data['poster_path']\n",
    "            html = HTML(f'''\n",
    "                <p>\n",
    "                    <b>Estreno:</b> {data[\"release_date\"]}</br>\n",
    "                    <b>Hasta:</b> {data[\"until_date\"]}</br>\n",
    "                    <b>Votos:</b> {data[\"vote_count\"]}</br>                    \n",
    "                    <b>Media:</b> {data[\"vote_average\"]}\n",
    "                </p>\n",
    "                <img src=\"{poster_path}\" style=max-width:185px;\"/>\n",
    "            ''')\n",
    "            display(html)\n",
    "\n",
    "        output2 = widgets.Output()\n",
    "        with output2:\n",
    "            ranks = [float(value) for value in data['rank_hist'].values()]\n",
    "            weeks = list(data['rank_hist'].keys())\n",
    "\n",
    "            fig = plt.figure(figsize=(8, 5), dpi=100)\n",
    "            ax = fig.gca()\n",
    "            ax.yaxis.set_major_locator(MaxNLocator(integer=True))\n",
    "            plt.xticks(range(len(weeks)), weeks)\n",
    "            plt.ylim(0, max(ranks) + 1)\n",
    "\n",
    "            plt.title(\"Ranking semanal\")\n",
    "            plt.xlabel(\"Semana\")\n",
    "            plt.ylabel(\"Posición\")\n",
    "\n",
    "            # Dibujar grafica\n",
    "            plt.plot(ranks, marker='o', linewidth=2) \n",
    "            plt.show()\n",
    "\n",
    "        two_columns = widgets.HBox([output1, output2])\n",
    "        display(two_columns)\n",
    "\n",
    "\n",
    "dropdown_year = widgets.Dropdown(\n",
    "    options=[2022, 2023],    \n",
    "    description='Año'\n",
    ")\n",
    "\n",
    "dropdown_month = widgets.Dropdown(\n",
    "    options=range(1, 13),    \n",
    "    description='Mes'\n",
    ")\n",
    "movie_info = widgets.interactive_output(display_movie_info, {'year': dropdown_year, 'month': dropdown_month})\n",
    "\n",
    "display(dropdown_year)\n",
    "display(dropdown_month)\n",
    "display(movie_info)"
   ]
  }
 ],
 "metadata": {
  "kernelspec": {
   "display_name": "Python 3 (ipykernel)",
   "language": "python",
   "name": "python3"
  },
  "language_info": {
   "codemirror_mode": {
    "name": "ipython",
    "version": 3
   },
   "file_extension": ".py",
   "mimetype": "text/x-python",
   "name": "python",
   "nbconvert_exporter": "python",
   "pygments_lexer": "ipython3",
   "version": "3.10.7"
  }
 },
 "nbformat": 4,
 "nbformat_minor": 4
}
